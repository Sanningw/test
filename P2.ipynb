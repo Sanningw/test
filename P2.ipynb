{
 "cells": [
  {
   "cell_type": "code",
   "execution_count": 7,
   "metadata": {},
   "outputs": [
    {
     "name": "stdout",
     "output_type": "stream",
     "text": [
      "100\n"
     ]
    }
   ],
   "source": [
    "a=100\n",
    "if a>=0:\n",
    "    print(a)\n",
    "else:\n",
    "    print(-a)"
   ]
  },
  {
   "cell_type": "code",
   "execution_count": 6,
   "metadata": {},
   "outputs": [
    {
     "name": "stdout",
     "output_type": "stream",
     "text": [
      "please enter a number:56\n",
      "56\n"
     ]
    }
   ],
   "source": [
    "s=input('please enter a number:')\n",
    "a=int(s)\n",
    "if a>=0:\n",
    "    print(a)\n",
    "else:\n",
    "    print(-a)"
   ]
  },
  {
   "cell_type": "code",
   "execution_count": 5,
   "metadata": {},
   "outputs": [
    {
     "name": "stdout",
     "output_type": "stream",
     "text": [
      "1024*786= 804864\n",
      "804864\n"
     ]
    }
   ],
   "source": [
    "print('1024*786=',1024*786)\n",
    "print(1024*786)"
   ]
  },
  {
   "cell_type": "code",
   "execution_count": 4,
   "metadata": {},
   "outputs": [
    {
     "name": "stdout",
     "output_type": "stream",
     "text": [
      "please enter number a=5\n",
      "please enter number b=6\n",
      "a*b= 30\n"
     ]
    }
   ],
   "source": [
    "x=input('please enter number a=')\n",
    "y=input('please enter number b=')\n",
    "a=int(x)\n",
    "b=int(y)\n",
    "print('a*b=',a*b)"
   ]
  },
  {
   "cell_type": "markdown",
   "metadata": {},
   "source": [
    "# 年龄"
   ]
  },
  {
   "cell_type": "code",
   "execution_count": 3,
   "metadata": {},
   "outputs": [
    {
     "name": "stdout",
     "output_type": "stream",
     "text": [
      "please enter your age:19\n",
      "adult\n"
     ]
    }
   ],
   "source": [
    "s=input('please enter your age:')\n",
    "a=int(s)\n",
    "if a>=18:\n",
    "    print('adult')\n",
    "else:\n",
    "    print('child')"
   ]
  }
 ],
 "metadata": {
  "kernelspec": {
   "display_name": "Python 3",
   "language": "python",
   "name": "python3"
  },
  "language_info": {
   "codemirror_mode": {
    "name": "ipython",
    "version": 3
   },
   "file_extension": ".py",
   "mimetype": "text/x-python",
   "name": "python",
   "nbconvert_exporter": "python",
   "pygments_lexer": "ipython3",
   "version": "3.6.4"
  }
 },
 "nbformat": 4,
 "nbformat_minor": 2
}
