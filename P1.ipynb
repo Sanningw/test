{
 "cells": [
  {
   "cell_type": "markdown",
   "metadata": {},
   "source": [
    "# p1"
   ]
  },
  {
   "cell_type": "code",
   "execution_count": 1,
   "metadata": {},
   "outputs": [
    {
     "name": "stdout",
     "output_type": "stream",
     "text": [
      "you're so beautiful\n",
      "you're so beautiful\n",
      "you're \"so\" beantiful\n"
     ]
    }
   ],
   "source": [
    "print(\"you're so beautiful\")\n",
    "print('you\\'re so beautiful')\n",
    "print('you\\'re \\\"so\\\" beantiful')"
   ]
  },
  {
   "cell_type": "code",
   "execution_count": 3,
   "metadata": {},
   "outputs": [
    {
     "name": "stdout",
     "output_type": "stream",
     "text": [
      "Douzi\n",
      "I love you, Douzi\n",
      "Douzi\n",
      "I love you, Douzi\n",
      "please enter your name:Douzi\n",
      "I love you, Douzi\n"
     ]
    }
   ],
   "source": [
    "name=input()\n",
    "print('I love you,',name)\n",
    "name=input('')\n",
    "print('I love you,',name)\n",
    "name=input('please enter your name:')\n",
    "print('I love you,',name)"
   ]
  },
  {
   "cell_type": "code",
   "execution_count": 2,
   "metadata": {},
   "outputs": [
    {
     "name": "stdout",
     "output_type": "stream",
     "text": [
      "\\\t\\\n",
      "\t\"t\"\\\n",
      "\tt\tt\tt\\\n",
      "t\tt\tt\tt\t\n"
     ]
    }
   ],
   "source": [
    "print('\\\\\\t\\\\')\n",
    "print('\\t\\\"t\\\"\\\\')\n",
    "print('\\tt\\tt\\tt\\\\')\n",
    "print('t\\tt\\tt\\tt\\t')"
   ]
  },
  {
   "cell_type": "code",
   "execution_count": 1,
   "metadata": {},
   "outputs": [
    {
     "name": "stdout",
     "output_type": "stream",
     "text": [
      "\\\\\\\\\\\\\\\\nnnntttt\\\\\n"
     ]
    }
   ],
   "source": [
    "print(r'\\\\\\\\\\\\\\\\nnnntttt\\\\')"
   ]
  },
  {
   "cell_type": "code",
   "execution_count": 23,
   "metadata": {},
   "outputs": [
    {
     "name": "stdout",
     "output_type": "stream",
     "text": [
      "\\\n",
      " \\\\\\\\\\\\nnn\\\\\\ttt\\\\\n"
     ]
    }
   ],
   "source": [
    "print('\\\\\\n',r'\\\\\\\\\\\\nnn\\\\\\ttt\\\\')"
   ]
  },
  {
   "cell_type": "code",
   "execution_count": 24,
   "metadata": {},
   "outputs": [
    {
     "name": "stdout",
     "output_type": "stream",
     "text": [
      "Douzi...I...love...you\n"
     ]
    }
   ],
   "source": [
    "print('''Douzi...I...love...you''')"
   ]
  },
  {
   "cell_type": "code",
   "execution_count": 7,
   "metadata": {},
   "outputs": [
    {
     "name": "stdout",
     "output_type": "stream",
     "text": [
      "Douzi,\\nI\\nlove\\nyou\n",
      "Douzi,\\nI\\nlove\\nyou\n"
     ]
    }
   ],
   "source": [
    "print(r'Douzi,\\nI\\nlove\\nyou')\n",
    "print(r'''Douzi,\\nI\\nlove\\nyou''')"
   ]
  },
  {
   "cell_type": "code",
   "execution_count": 5,
   "metadata": {},
   "outputs": [
    {
     "name": "stdout",
     "output_type": "stream",
     "text": [
      "Douzi,\n",
      "I\n",
      "love\n",
      "you\n",
      "Douzi,\n",
      "I\n",
      "love\n",
      "you\n",
      "Douzi,\n",
      "I\n",
      "love\n",
      "you\n",
      "Douzi\n",
      "I\n",
      "love\n",
      "you\n"
     ]
    }
   ],
   "source": [
    "print('Douzi,\\nI\\nlove\\nyou')\n",
    "print(r'''Douzi,\n",
    "I\n",
    "love\n",
    "you''')\n",
    "print('''Douzi,\\nI\\nlove\\nyou''')\n",
    "print('''Douzi\n",
    "I\n",
    "love\n",
    "you''')"
   ]
  }
 ],
 "metadata": {
  "kernelspec": {
   "display_name": "Python 3",
   "language": "python",
   "name": "python3"
  },
  "language_info": {
   "codemirror_mode": {
    "name": "ipython",
    "version": 3
   },
   "file_extension": ".py",
   "mimetype": "text/x-python",
   "name": "python",
   "nbconvert_exporter": "python",
   "pygments_lexer": "ipython3",
   "version": "3.6.7"
  }
 },
 "nbformat": 4,
 "nbformat_minor": 2
}
